{
 "cells": [
  {
   "cell_type": "code",
   "execution_count": 247,
   "id": "60e9e11e-6e20-414d-bf47-3a704fe8ff9d",
   "metadata": {},
   "outputs": [],
   "source": [
    "import numpy as np\n",
    "import pandas as pd\n",
    "import matplotlib.pyplot as plt"
   ]
  },
  {
   "cell_type": "code",
   "execution_count": 248,
   "id": "cee3a54e-39de-4bb7-ac7b-8d1c96fee840",
   "metadata": {},
   "outputs": [],
   "source": [
    "df = pd.read_csv('rent_data.csv')"
   ]
  },
  {
   "cell_type": "code",
   "execution_count": 249,
   "id": "27b4813e-91df-405e-b28f-94b1f38a4ba0",
   "metadata": {},
   "outputs": [
    {
     "name": "stdout",
     "output_type": "stream",
     "text": [
      "<class 'pandas.core.frame.DataFrame'>\n",
      "RangeIndex: 5928 entries, 0 to 5927\n",
      "Data columns (total 9 columns):\n",
      " #   Column         Non-Null Count  Dtype \n",
      "---  ------         --------------  ----- \n",
      " 0   district       5928 non-null   object\n",
      " 1   neighborhood   5928 non-null   object\n",
      " 2   room           5928 non-null   int64 \n",
      " 3   living_room    5928 non-null   int64 \n",
      " 4   area           5928 non-null   int64 \n",
      " 5   age            5928 non-null   int64 \n",
      " 6   floor          5928 non-null   int64 \n",
      " 7   price          5928 non-null   int64 \n",
      " 8   area_per_room  5928 non-null   int64 \n",
      "dtypes: int64(7), object(2)\n",
      "memory usage: 416.9+ KB\n",
      "None\n"
     ]
    }
   ],
   "source": [
    "print(df.info())"
   ]
  },
  {
   "cell_type": "code",
   "execution_count": 250,
   "id": "285e8f52-05af-4062-a585-4547b063306e",
   "metadata": {},
   "outputs": [],
   "source": [
    "df['district'] = df['district'].astype('category')\n",
    "df['neighborhood'] = df['neighborhood'].astype('category')\n",
    "df['room'] = df['room'].astype('int')\n",
    "df['living_room'] = df['living_room'].astype('int')\n",
    "df['area'] = df['area'].astype('int')\n",
    "df['age'] = df['age'].astype('int')\n",
    "df['floor'] = df['floor'].astype('int')\n",
    "df['price'] = df['price'].astype('int')"
   ]
  },
  {
   "cell_type": "code",
   "execution_count": 251,
   "id": "642a8213-38d4-47c0-bccf-a9be8a6fe9ef",
   "metadata": {},
   "outputs": [
    {
     "name": "stdout",
     "output_type": "stream",
     "text": [
      "<class 'pandas.core.frame.DataFrame'>\n",
      "RangeIndex: 5928 entries, 0 to 5927\n",
      "Data columns (total 9 columns):\n",
      " #   Column         Non-Null Count  Dtype   \n",
      "---  ------         --------------  -----   \n",
      " 0   district       5928 non-null   category\n",
      " 1   neighborhood   5928 non-null   category\n",
      " 2   room           5928 non-null   int32   \n",
      " 3   living_room    5928 non-null   int32   \n",
      " 4   area           5928 non-null   int32   \n",
      " 5   age            5928 non-null   int32   \n",
      " 6   floor          5928 non-null   int32   \n",
      " 7   price          5928 non-null   int32   \n",
      " 8   area_per_room  5928 non-null   int64   \n",
      "dtypes: category(2), int32(6), int64(1)\n",
      "memory usage: 224.5 KB\n",
      "None\n"
     ]
    }
   ],
   "source": [
    "print(df.info())"
   ]
  },
  {
   "cell_type": "code",
   "execution_count": 252,
   "id": "b4200561-2d0d-444a-a2c4-97c4e09b066f",
   "metadata": {},
   "outputs": [
    {
     "name": "stdout",
     "output_type": "stream",
     "text": [
      "Column: room, min: -2.0, max: 6.0\n",
      "Column: living_room, min: 1.0, max: 1.0\n",
      "Column: area, min: 0.0, max: 200.0\n",
      "Column: age, min: -25.0, max: 63.0\n",
      "Column: floor, min: -3.5, max: 8.5\n",
      "Column: price, min: -25000.0, max: 95000.0\n",
      "Column: area_per_room, min: 13.0, max: 53.0\n"
     ]
    }
   ],
   "source": [
    "columns = df.select_dtypes(include=[np.number]).columns\n",
    "min_values = []\n",
    "max_values = []\n",
    "for column in columns:\n",
    "    Q1 = df[column].quantile(0.25)\n",
    "    Q3 = df[column].quantile(0.75)\n",
    "    IQR = Q3 - Q1\n",
    "    min_value = Q1 - 1.5 * IQR\n",
    "    max_value = Q3 + 1.5 * IQR\n",
    "    min_values.append(min_value)\n",
    "    max_values.append(max_value)\n",
    "    print(f\"Column: {column}, min: {min_value}, max: {max_value}\")"
   ]
  },
  {
   "cell_type": "code",
   "execution_count": 253,
   "id": "6852877a-6b19-4f1f-9b0b-562c21329e41",
   "metadata": {},
   "outputs": [],
   "source": [
    "for i, column in enumerate(columns):\n",
    "    df = df[(df[column] >= min_values[i]) & (df[column] <= max_values[i])]"
   ]
  },
  {
   "cell_type": "code",
   "execution_count": 254,
   "id": "457c2dcd-f406-4e2d-9e3f-f8eba6cab4dd",
   "metadata": {},
   "outputs": [
    {
     "name": "stdout",
     "output_type": "stream",
     "text": [
      "<class 'pandas.core.frame.DataFrame'>\n",
      "Index: 4501 entries, 0 to 5926\n",
      "Data columns (total 9 columns):\n",
      " #   Column         Non-Null Count  Dtype   \n",
      "---  ------         --------------  -----   \n",
      " 0   district       4501 non-null   category\n",
      " 1   neighborhood   4501 non-null   category\n",
      " 2   room           4501 non-null   int32   \n",
      " 3   living_room    4501 non-null   int32   \n",
      " 4   area           4501 non-null   int32   \n",
      " 5   age            4501 non-null   int32   \n",
      " 6   floor          4501 non-null   int32   \n",
      " 7   price          4501 non-null   int32   \n",
      " 8   area_per_room  4501 non-null   int64   \n",
      "dtypes: category(2), int32(6), int64(1)\n",
      "memory usage: 210.8 KB\n",
      "None\n"
     ]
    }
   ],
   "source": [
    "print(df.info())"
   ]
  },
  {
   "cell_type": "code",
   "execution_count": 255,
   "id": "6642c6ec-d315-4f7d-b0c0-2b3329ec03e4",
   "metadata": {},
   "outputs": [
    {
     "data": {
      "text/html": [
       "<div>\n",
       "<style scoped>\n",
       "    .dataframe tbody tr th:only-of-type {\n",
       "        vertical-align: middle;\n",
       "    }\n",
       "\n",
       "    .dataframe tbody tr th {\n",
       "        vertical-align: top;\n",
       "    }\n",
       "\n",
       "    .dataframe thead th {\n",
       "        text-align: right;\n",
       "    }\n",
       "</style>\n",
       "<table border=\"1\" class=\"dataframe\">\n",
       "  <thead>\n",
       "    <tr style=\"text-align: right;\">\n",
       "      <th></th>\n",
       "      <th>room</th>\n",
       "      <th>living_room</th>\n",
       "      <th>area</th>\n",
       "      <th>age</th>\n",
       "      <th>floor</th>\n",
       "      <th>price</th>\n",
       "      <th>area_per_room</th>\n",
       "    </tr>\n",
       "  </thead>\n",
       "  <tbody>\n",
       "    <tr>\n",
       "      <th>count</th>\n",
       "      <td>4501.000000</td>\n",
       "      <td>4501.0</td>\n",
       "      <td>4501.000000</td>\n",
       "      <td>4501.000000</td>\n",
       "      <td>4501.000000</td>\n",
       "      <td>4501.000000</td>\n",
       "      <td>4501.000000</td>\n",
       "    </tr>\n",
       "    <tr>\n",
       "      <th>mean</th>\n",
       "      <td>2.013997</td>\n",
       "      <td>1.0</td>\n",
       "      <td>96.252166</td>\n",
       "      <td>21.361697</td>\n",
       "      <td>2.179071</td>\n",
       "      <td>31988.976894</td>\n",
       "      <td>31.723395</td>\n",
       "    </tr>\n",
       "    <tr>\n",
       "      <th>std</th>\n",
       "      <td>0.767698</td>\n",
       "      <td>0.0</td>\n",
       "      <td>30.004551</td>\n",
       "      <td>13.917257</td>\n",
       "      <td>2.329696</td>\n",
       "      <td>17308.437236</td>\n",
       "      <td>5.924800</td>\n",
       "    </tr>\n",
       "    <tr>\n",
       "      <th>min</th>\n",
       "      <td>1.000000</td>\n",
       "      <td>1.0</td>\n",
       "      <td>27.000000</td>\n",
       "      <td>0.000000</td>\n",
       "      <td>-3.000000</td>\n",
       "      <td>1300.000000</td>\n",
       "      <td>13.000000</td>\n",
       "    </tr>\n",
       "    <tr>\n",
       "      <th>25%</th>\n",
       "      <td>1.000000</td>\n",
       "      <td>1.0</td>\n",
       "      <td>75.000000</td>\n",
       "      <td>8.000000</td>\n",
       "      <td>1.000000</td>\n",
       "      <td>20000.000000</td>\n",
       "      <td>28.000000</td>\n",
       "    </tr>\n",
       "    <tr>\n",
       "      <th>50%</th>\n",
       "      <td>2.000000</td>\n",
       "      <td>1.0</td>\n",
       "      <td>90.000000</td>\n",
       "      <td>25.000000</td>\n",
       "      <td>2.000000</td>\n",
       "      <td>27000.000000</td>\n",
       "      <td>31.000000</td>\n",
       "    </tr>\n",
       "    <tr>\n",
       "      <th>75%</th>\n",
       "      <td>3.000000</td>\n",
       "      <td>1.0</td>\n",
       "      <td>115.000000</td>\n",
       "      <td>30.000000</td>\n",
       "      <td>4.000000</td>\n",
       "      <td>40000.000000</td>\n",
       "      <td>35.000000</td>\n",
       "    </tr>\n",
       "    <tr>\n",
       "      <th>max</th>\n",
       "      <td>6.000000</td>\n",
       "      <td>1.0</td>\n",
       "      <td>200.000000</td>\n",
       "      <td>63.000000</td>\n",
       "      <td>8.000000</td>\n",
       "      <td>95000.000000</td>\n",
       "      <td>53.000000</td>\n",
       "    </tr>\n",
       "  </tbody>\n",
       "</table>\n",
       "</div>"
      ],
      "text/plain": [
       "              room  living_room         area          age        floor  \\\n",
       "count  4501.000000       4501.0  4501.000000  4501.000000  4501.000000   \n",
       "mean      2.013997          1.0    96.252166    21.361697     2.179071   \n",
       "std       0.767698          0.0    30.004551    13.917257     2.329696   \n",
       "min       1.000000          1.0    27.000000     0.000000    -3.000000   \n",
       "25%       1.000000          1.0    75.000000     8.000000     1.000000   \n",
       "50%       2.000000          1.0    90.000000    25.000000     2.000000   \n",
       "75%       3.000000          1.0   115.000000    30.000000     4.000000   \n",
       "max       6.000000          1.0   200.000000    63.000000     8.000000   \n",
       "\n",
       "              price  area_per_room  \n",
       "count   4501.000000    4501.000000  \n",
       "mean   31988.976894      31.723395  \n",
       "std    17308.437236       5.924800  \n",
       "min     1300.000000      13.000000  \n",
       "25%    20000.000000      28.000000  \n",
       "50%    27000.000000      31.000000  \n",
       "75%    40000.000000      35.000000  \n",
       "max    95000.000000      53.000000  "
      ]
     },
     "execution_count": 255,
     "metadata": {},
     "output_type": "execute_result"
    }
   ],
   "source": [
    "df.describe()"
   ]
  },
  {
   "cell_type": "code",
   "execution_count": 256,
   "id": "9d93aa59-8b5a-4363-82b0-72963b8f10e5",
   "metadata": {},
   "outputs": [],
   "source": [
    "df = df[df['price'] >= 10000]"
   ]
  },
  {
   "cell_type": "code",
   "execution_count": 257,
   "id": "0d1b249e-8dcc-47c7-8aa1-2d2cdc7939f9",
   "metadata": {},
   "outputs": [],
   "source": [
    "df = df[df['price'] <= 70000]"
   ]
  },
  {
   "cell_type": "code",
   "execution_count": 258,
   "id": "507fbd18-2863-4c27-83e3-295a72629b99",
   "metadata": {},
   "outputs": [
    {
     "name": "stdout",
     "output_type": "stream",
     "text": [
      "<class 'pandas.core.frame.DataFrame'>\n",
      "Index: 4247 entries, 2 to 5926\n",
      "Data columns (total 9 columns):\n",
      " #   Column         Non-Null Count  Dtype   \n",
      "---  ------         --------------  -----   \n",
      " 0   district       4247 non-null   category\n",
      " 1   neighborhood   4247 non-null   category\n",
      " 2   room           4247 non-null   int32   \n",
      " 3   living_room    4247 non-null   int32   \n",
      " 4   area           4247 non-null   int32   \n",
      " 5   age            4247 non-null   int32   \n",
      " 6   floor          4247 non-null   int32   \n",
      " 7   price          4247 non-null   int32   \n",
      " 8   area_per_room  4247 non-null   int64   \n",
      "dtypes: category(2), int32(6), int64(1)\n",
      "memory usage: 200.1 KB\n",
      "None\n"
     ]
    }
   ],
   "source": [
    "print(df.info())"
   ]
  },
  {
   "cell_type": "code",
   "execution_count": 259,
   "id": "6e699e30-c35b-431b-8bfa-b5e8cfdf8208",
   "metadata": {},
   "outputs": [
    {
     "name": "stdout",
     "output_type": "stream",
     "text": [
      "              room  living_room         area          age        floor  \\\n",
      "count  4247.000000       4247.0  4247.000000  4247.000000  4247.000000   \n",
      "mean      1.984224          1.0    94.632917    21.525783     2.151872   \n",
      "std       0.752440          0.0    28.763621    13.844801     2.320577   \n",
      "min       1.000000          1.0    27.000000     0.000000    -3.000000   \n",
      "25%       1.000000          1.0    75.000000     8.000000     1.000000   \n",
      "50%       2.000000          1.0    90.000000    25.000000     2.000000   \n",
      "75%       2.000000          1.0   110.000000    30.000000     4.000000   \n",
      "max       5.000000          1.0   200.000000    63.000000     8.000000   \n",
      "\n",
      "              price  area_per_room  \n",
      "count   4247.000000    4247.000000  \n",
      "mean   30012.723334      31.538733  \n",
      "std    13709.090454       5.838165  \n",
      "min    10000.000000      13.000000  \n",
      "25%    20000.000000      28.000000  \n",
      "50%    26000.000000      31.000000  \n",
      "75%    37500.000000      35.000000  \n",
      "max    70000.000000      53.000000  \n"
     ]
    }
   ],
   "source": [
    "print(df.describe())"
   ]
  },
  {
   "cell_type": "code",
   "execution_count": 260,
   "id": "441708af-b0a0-4310-840a-639d0fd43d56",
   "metadata": {},
   "outputs": [],
   "source": [
    "df.to_csv('data_cleaned.csv',index=False)"
   ]
  },
  {
   "cell_type": "code",
   "execution_count": null,
   "id": "b2e432cf-645b-4b64-94af-a5bdf3cd3f60",
   "metadata": {},
   "outputs": [],
   "source": []
  },
  {
   "cell_type": "code",
   "execution_count": null,
   "id": "0277c065-f924-4ab3-bd55-4cb80a6a2cdc",
   "metadata": {},
   "outputs": [],
   "source": []
  }
 ],
 "metadata": {
  "kernelspec": {
   "display_name": "Python 3 (ipykernel)",
   "language": "python",
   "name": "python3"
  },
  "language_info": {
   "codemirror_mode": {
    "name": "ipython",
    "version": 3
   },
   "file_extension": ".py",
   "mimetype": "text/x-python",
   "name": "python",
   "nbconvert_exporter": "python",
   "pygments_lexer": "ipython3",
   "version": "3.12.7"
  }
 },
 "nbformat": 4,
 "nbformat_minor": 5
}
